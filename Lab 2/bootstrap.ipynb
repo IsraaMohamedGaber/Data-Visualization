{
 "cells": [
  {
   "cell_type": "code",
   "execution_count": 1,
   "id": "31584956",
   "metadata": {},
   "outputs": [],
   "source": [
    "#pip install dash-bootstrap-components\n"
   ]
  },
  {
   "cell_type": "markdown",
   "id": "a192ddba",
   "metadata": {},
   "source": [
    "# Resources\n",
    "# https://dash-bootstrap-components.opensource.faculty.ai/\n",
    "# https://dash-bootstrap-components.opensource.faculty.ai/docs/components/\n",
    "# https://dash-bootstrap-components.opensource.faculty.ai/docs/components/layout/\n",
    "# https://dash-bootstrap-components.opensource.faculty.ai/docs/components/accordion/\n",
    "# https://dash-bootstrap-components.opensource.faculty.ai/docs/components/alert/\n",
    "# https://dash-bootstrap-components.opensource.faculty.ai/docs/components/button/\n",
    "# https://dash-bootstrap-components.opensource.faculty.ai/docs/components/card/\n",
    "# https://dash-bootstrap-components.opensource.faculty.ai/examples/simple-sidebar/page-2\n",
    "# https://dash-bootstrap-components.opensource.faculty.ai/examples/iris/\n",
    "# https://dash-bootstrap-components.opensource.faculty.ai/examples/graphs-in-tabs/\n",
    "# https://plotly.com/python/text-and-annotations/"
   ]
  },
  {
   "cell_type": "markdown",
   "id": "2a30126f",
   "metadata": {},
   "source": [
    "# Project Resources\n",
    "# https://dash.gallery/Portal/\n",
    "# https://plotly.com/examples/"
   ]
  },
  {
   "cell_type": "code",
   "execution_count": 7,
   "id": "ee494800",
   "metadata": {},
   "outputs": [
    {
     "data": {
      "text/html": [
       "\n",
       "        <iframe\n",
       "            width=\"100%\"\n",
       "            height=\"650\"\n",
       "            src=\"http://127.0.0.1:8050/\"\n",
       "            frameborder=\"0\"\n",
       "            allowfullscreen\n",
       "            \n",
       "        ></iframe>\n",
       "        "
      ],
      "text/plain": [
       "<IPython.lib.display.IFrame at 0x1bdc1ea5310>"
      ]
     },
     "metadata": {},
     "output_type": "display_data"
    }
   ],
   "source": [
    "import dash\n",
    "import dash_bootstrap_components as dbc\n",
    "\n",
    "app = dash.Dash(\n",
    "    external_stylesheets=[dbc.themes.BOOTSTRAP]\n",
    ")\n",
    "\n",
    "app.layout = dbc.Alert(\n",
    "    \"Hello, Bootstrap!\", className=\"m-5\"\n",
    ")\n",
    "\n",
    "if __name__ == \"__main__\":\n",
    "    app.run()"
   ]
  },
  {
   "cell_type": "code",
   "execution_count": 8,
   "id": "ce4876ba",
   "metadata": {},
   "outputs": [
    {
     "name": "stdout",
     "output_type": "stream",
     "text": [
      "Dash app running on http://127.0.0.1:8050/\n"
     ]
    },
    {
     "data": {
      "text/html": [
       "\n",
       "        <iframe\n",
       "            width=\"100%\"\n",
       "            height=\"650\"\n",
       "            src=\"http://127.0.0.1:8050/\"\n",
       "            frameborder=\"0\"\n",
       "            allowfullscreen\n",
       "            \n",
       "        ></iframe>\n",
       "        "
      ],
      "text/plain": [
       "<IPython.lib.display.IFrame at 0x1bdc20340d0>"
      ]
     },
     "metadata": {},
     "output_type": "display_data"
    }
   ],
   "source": [
    "import dash\n",
    "import dash_bootstrap_components as dbc\n",
    "\n",
    "app = dash.Dash(\n",
    "    external_stylesheets=[dbc.themes.BOOTSTRAP]\n",
    ")\n",
    "\n",
    "app.layout = dbc.Alert(\n",
    "    \"Hello, Bootstrap!\", className=\"m-5\"\n",
    ")\n",
    "\n",
    "# Launch in a new browser tab\n",
    "app.run(debug=True,jupyter_mode=\"external\")\n",
    "\n",
    "if __name__ == \"__main__\":\n",
    "    app.run()\n",
    "\n"
   ]
  },
  {
   "cell_type": "code",
   "execution_count": 9,
   "id": "fabfa1a7",
   "metadata": {},
   "outputs": [
    {
     "name": "stdout",
     "output_type": "stream",
     "text": [
      "Dash app running on http://127.0.0.1:8050/\n"
     ]
    },
    {
     "data": {
      "text/html": [
       "\n",
       "        <iframe\n",
       "            width=\"100%\"\n",
       "            height=\"650\"\n",
       "            src=\"http://127.0.0.1:8050/\"\n",
       "            frameborder=\"0\"\n",
       "            allowfullscreen\n",
       "            \n",
       "        ></iframe>\n",
       "        "
      ],
      "text/plain": [
       "<IPython.lib.display.IFrame at 0x1bdc2002040>"
      ]
     },
     "metadata": {},
     "output_type": "display_data"
    }
   ],
   "source": [
    "import dash\n",
    "import dash_bootstrap_components as dbc\n",
    "\n",
    "app = dash.Dash(\n",
    "    external_stylesheets=[dbc.themes.DARKLY]\n",
    ")\n",
    "\n",
    "app.layout = dbc.Alert(\n",
    "    \"Hello, Bootstrap!\", className=\"m-5\"\n",
    ")\n",
    "\n",
    "# Launch in a new browser tab\n",
    "app.run(debug=True,jupyter_mode=\"external\")\n",
    "\n",
    "if __name__ == \"__main__\":\n",
    "    app.run()\n",
    "\n"
   ]
  },
  {
   "cell_type": "code",
   "execution_count": 10,
   "id": "49d9313d",
   "metadata": {},
   "outputs": [
    {
     "name": "stdout",
     "output_type": "stream",
     "text": [
      "Dash app running on http://127.0.0.1:8050/\n"
     ]
    },
    {
     "data": {
      "text/html": [
       "\n",
       "        <iframe\n",
       "            width=\"100%\"\n",
       "            height=\"650\"\n",
       "            src=\"http://127.0.0.1:8050/\"\n",
       "            frameborder=\"0\"\n",
       "            allowfullscreen\n",
       "            \n",
       "        ></iframe>\n",
       "        "
      ],
      "text/plain": [
       "<IPython.lib.display.IFrame at 0x1bdc1fb6850>"
      ]
     },
     "metadata": {},
     "output_type": "display_data"
    }
   ],
   "source": [
    "import dash\n",
    "import dash_bootstrap_components as dbc\n",
    "from dash import html,dcc\n",
    "\n",
    "app = dash.Dash(\n",
    "    external_stylesheets=[dbc.themes.DARKLY]\n",
    ")\n",
    "\n",
    "app.layout = html.Div([\n",
    "    dbc.Alert(\n",
    "    \"Hello, Bootstrap!\", className=\"m-5\"\n",
    ")]\n",
    "                     )\n",
    "\n",
    "# Launch in a new browser tab\n",
    "app.run(debug=True,jupyter_mode=\"external\")\n",
    "\n",
    "if __name__ == \"__main__\":\n",
    "    app.run()\n",
    "\n"
   ]
  },
  {
   "cell_type": "code",
   "execution_count": 11,
   "id": "8111d8c2",
   "metadata": {},
   "outputs": [
    {
     "name": "stdout",
     "output_type": "stream",
     "text": [
      "Dash app running on http://127.0.0.1:8050/\n"
     ]
    },
    {
     "data": {
      "text/html": [
       "\n",
       "        <iframe\n",
       "            width=\"100%\"\n",
       "            height=\"650\"\n",
       "            src=\"http://127.0.0.1:8050/\"\n",
       "            frameborder=\"0\"\n",
       "            allowfullscreen\n",
       "            \n",
       "        ></iframe>\n",
       "        "
      ],
      "text/plain": [
       "<IPython.lib.display.IFrame at 0x1bdc1e6adc0>"
      ]
     },
     "metadata": {},
     "output_type": "display_data"
    }
   ],
   "source": [
    "import dash\n",
    "import dash_bootstrap_components as dbc\n",
    "from dash import html,dcc\n",
    "\n",
    "app = dash.Dash(\n",
    "    external_stylesheets=[dbc.themes.DARKLY]\n",
    ")\n",
    "\n",
    "app.layout = html.Div([\n",
    "    dbc.Alert(\"Hello, Bootstrap!\", className=\"m-5\"),\n",
    "    dbc.Alert(\"Hello, Bootstrap!\", className=\"m-5\"),\n",
    "]\n",
    "                     )\n",
    "\n",
    "# Launch in a new browser tab\n",
    "app.run(debug=True,jupyter_mode=\"external\")\n",
    "\n",
    "if __name__ == \"__main__\":\n",
    "    app.run()\n",
    "\n"
   ]
  },
  {
   "cell_type": "code",
   "execution_count": 12,
   "id": "7218e1cc",
   "metadata": {},
   "outputs": [
    {
     "name": "stdout",
     "output_type": "stream",
     "text": [
      "Dash app running on http://127.0.0.1:8050/\n"
     ]
    },
    {
     "data": {
      "text/html": [
       "\n",
       "        <iframe\n",
       "            width=\"100%\"\n",
       "            height=\"650\"\n",
       "            src=\"http://127.0.0.1:8050/\"\n",
       "            frameborder=\"0\"\n",
       "            allowfullscreen\n",
       "            \n",
       "        ></iframe>\n",
       "        "
      ],
      "text/plain": [
       "<IPython.lib.display.IFrame at 0x1bdc2002cd0>"
      ]
     },
     "metadata": {},
     "output_type": "display_data"
    }
   ],
   "source": [
    "import dash\n",
    "import dash_bootstrap_components as dbc\n",
    "from dash import html,dcc\n",
    "\n",
    "app = dash.Dash(\n",
    "    external_stylesheets=[dbc.themes.DARKLY]\n",
    ")\n",
    "\n",
    "app.layout = html.Div([\n",
    "    dbc.Alert(\"Hello, Bootstrap!\", className=\"m-5\"),\n",
    "    dbc.Alert(\"Hello, Bootstrap!\", className=\"m-5\"),\n",
    "    dbc.Row(dbc.Col(html.Div(\"A single column\"))),\n",
    "        dbc.Row(\n",
    "            [\n",
    "                dbc.Col(html.Div(\"One of three columns\")),\n",
    "                dbc.Col(html.Div(\"One of three columns\")),\n",
    "                dbc.Col(html.Div(\"One of three columns\")),\n",
    "            ])\n",
    "]\n",
    "                     )\n",
    "\n",
    "# Launch in a new browser tab\n",
    "app.run(debug=True,jupyter_mode=\"external\")\n",
    "\n",
    "if __name__ == \"__main__\":\n",
    "    app.run()\n",
    "\n"
   ]
  },
  {
   "cell_type": "code",
   "execution_count": 13,
   "id": "075b0e17",
   "metadata": {},
   "outputs": [
    {
     "name": "stdout",
     "output_type": "stream",
     "text": [
      "Dash app running on http://127.0.0.1:8050/\n"
     ]
    },
    {
     "data": {
      "text/html": [
       "\n",
       "        <iframe\n",
       "            width=\"100%\"\n",
       "            height=\"650\"\n",
       "            src=\"http://127.0.0.1:8050/\"\n",
       "            frameborder=\"0\"\n",
       "            allowfullscreen\n",
       "            \n",
       "        ></iframe>\n",
       "        "
      ],
      "text/plain": [
       "<IPython.lib.display.IFrame at 0x1bdc20022b0>"
      ]
     },
     "metadata": {},
     "output_type": "display_data"
    }
   ],
   "source": [
    "import dash\n",
    "import dash_bootstrap_components as dbc\n",
    "from dash import html,dcc\n",
    "\n",
    "app = dash.Dash(\n",
    "    external_stylesheets=[dbc.themes.DARKLY]\n",
    ")\n",
    "\n",
    "app.layout = html.Div([\n",
    "    dbc.Alert(\"Hello, Bootstrap!\", className=\"m-5\"),\n",
    "    dbc.Alert(\"Hello, Bootstrap!\", className=\"m-5\"),\n",
    "    dbc.Row(dbc.Col(html.Div(\"A single column\"))),\n",
    "        dbc.Row(\n",
    "            [\n",
    "                dbc.Col(dcc.Graph()),\n",
    "                dbc.Col(dcc.Graph()),\n",
    "                dbc.Col(dcc.Graph()),\n",
    "            ])\n",
    "]\n",
    "                     )\n",
    "\n",
    "# Launch in a new browser tab\n",
    "app.run(debug=True,jupyter_mode=\"external\")\n",
    "\n",
    "if __name__ == \"__main__\":\n",
    "    app.run()\n",
    "\n"
   ]
  },
  {
   "cell_type": "code",
   "execution_count": 14,
   "id": "86d9f004",
   "metadata": {},
   "outputs": [
    {
     "name": "stdout",
     "output_type": "stream",
     "text": [
      "Dash app running on http://127.0.0.1:8050/\n"
     ]
    },
    {
     "data": {
      "text/html": [
       "\n",
       "        <iframe\n",
       "            width=\"100%\"\n",
       "            height=\"650\"\n",
       "            src=\"http://127.0.0.1:8050/\"\n",
       "            frameborder=\"0\"\n",
       "            allowfullscreen\n",
       "            \n",
       "        ></iframe>\n",
       "        "
      ],
      "text/plain": [
       "<IPython.lib.display.IFrame at 0x1bdc2169970>"
      ]
     },
     "metadata": {},
     "output_type": "display_data"
    }
   ],
   "source": [
    "import dash\n",
    "import dash_bootstrap_components as dbc\n",
    "from dash import html,dcc\n",
    "\n",
    "app = dash.Dash(\n",
    "    external_stylesheets=[dbc.themes.DARKLY]\n",
    ")\n",
    "\n",
    "app.layout = html.Div([\n",
    "    dbc.Row(dbc.Col(dbc.Alert(\"Hello, Bootstrap!\", className=\"m-5\"))),\n",
    "        dbc.Row(\n",
    "            [\n",
    "                dbc.Col(dcc.Graph()),\n",
    "                dbc.Col(dcc.Graph()),\n",
    "                dbc.Col(dcc.Graph()),\n",
    "            ])\n",
    "]\n",
    "                     )\n",
    "\n",
    "# Launch in a new browser tab\n",
    "app.run(debug=True,jupyter_mode=\"external\")\n",
    "\n",
    "if __name__ == \"__main__\":\n",
    "    app.run()\n",
    "\n"
   ]
  },
  {
   "cell_type": "code",
   "execution_count": 15,
   "id": "b7b92f45",
   "metadata": {},
   "outputs": [
    {
     "name": "stdout",
     "output_type": "stream",
     "text": [
      "Dash app running on http://127.0.0.1:8050/\n"
     ]
    },
    {
     "data": {
      "text/html": [
       "\n",
       "        <iframe\n",
       "            width=\"100%\"\n",
       "            height=\"650\"\n",
       "            src=\"http://127.0.0.1:8050/\"\n",
       "            frameborder=\"0\"\n",
       "            allowfullscreen\n",
       "            \n",
       "        ></iframe>\n",
       "        "
      ],
      "text/plain": [
       "<IPython.lib.display.IFrame at 0x1bdc1ebfbb0>"
      ]
     },
     "metadata": {},
     "output_type": "display_data"
    }
   ],
   "source": [
    "import dash\n",
    "import dash_bootstrap_components as dbc\n",
    "from dash import html,dcc\n",
    "\n",
    "app = dash.Dash(\n",
    "    external_stylesheets=[dbc.themes.DARKLY]\n",
    ")\n",
    "\n",
    "app.layout = html.Div([\n",
    "    dbc.Row(dbc.Col(dbc.Alert(\"Hello, Bootstrap!\", className=\"m-5\"))),\n",
    "        dbc.Row(\n",
    "            [\n",
    "                dbc.Col(dcc.Graph(),width=4),\n",
    "                dbc.Col(dcc.Graph(),width=4),\n",
    "                dbc.Col(dcc.Graph(),width=4),\n",
    "            ])\n",
    "]\n",
    "                     )\n",
    "\n",
    "# Launch in a new browser tab\n",
    "app.run(debug=True,jupyter_mode=\"external\")\n",
    "\n",
    "if __name__ == \"__main__\":\n",
    "    app.run()\n",
    "\n"
   ]
  },
  {
   "cell_type": "code",
   "execution_count": 16,
   "id": "430570bd",
   "metadata": {},
   "outputs": [
    {
     "name": "stdout",
     "output_type": "stream",
     "text": [
      "Dash app running on http://127.0.0.1:8050/\n"
     ]
    },
    {
     "data": {
      "text/html": [
       "\n",
       "        <iframe\n",
       "            width=\"100%\"\n",
       "            height=\"650\"\n",
       "            src=\"http://127.0.0.1:8050/\"\n",
       "            frameborder=\"0\"\n",
       "            allowfullscreen\n",
       "            \n",
       "        ></iframe>\n",
       "        "
      ],
      "text/plain": [
       "<IPython.lib.display.IFrame at 0x1bdc2202790>"
      ]
     },
     "metadata": {},
     "output_type": "display_data"
    }
   ],
   "source": [
    "import dash\n",
    "import dash_bootstrap_components as dbc\n",
    "from dash import html,dcc\n",
    "\n",
    "app = dash.Dash(\n",
    "    external_stylesheets=[dbc.themes.DARKLY]\n",
    ")\n",
    "#width = 12 for page\n",
    "app.layout = html.Div([\n",
    "    dbc.Row(dbc.Col(dbc.Alert(\"Hello, Bootstrap!\", className=\"m-5\"))),\n",
    "        dbc.Row(\n",
    "            [\n",
    "                dbc.Col(dcc.Graph(),width=4),\n",
    "                dbc.Col(dcc.Graph(),width=4),\n",
    "                dbc.Col(dcc.Graph(),width=4),\n",
    "            ]),\n",
    "    dbc.Row(\n",
    "            [\n",
    "                dbc.Col(dcc.Graph(),width=12)\n",
    "            ])\n",
    "]\n",
    "                     )\n",
    "\n",
    "# Launch in a new browser tab\n",
    "app.run(debug=True,jupyter_mode=\"external\")\n",
    "\n",
    "if __name__ == \"__main__\":\n",
    "    app.run()\n",
    "\n"
   ]
  },
  {
   "cell_type": "code",
   "execution_count": 17,
   "id": "8d9839b6",
   "metadata": {},
   "outputs": [
    {
     "name": "stdout",
     "output_type": "stream",
     "text": [
      "Dash app running on http://127.0.0.1:8050/\n"
     ]
    },
    {
     "data": {
      "text/html": [
       "\n",
       "        <iframe\n",
       "            width=\"100%\"\n",
       "            height=\"650\"\n",
       "            src=\"http://127.0.0.1:8050/\"\n",
       "            frameborder=\"0\"\n",
       "            allowfullscreen\n",
       "            \n",
       "        ></iframe>\n",
       "        "
      ],
      "text/plain": [
       "<IPython.lib.display.IFrame at 0x1bdc1f4c880>"
      ]
     },
     "metadata": {},
     "output_type": "display_data"
    }
   ],
   "source": [
    "import dash\n",
    "import dash_bootstrap_components as dbc\n",
    "from dash import html,dcc\n",
    "\n",
    "app = dash.Dash(\n",
    "    external_stylesheets=[dbc.themes.DARKLY]\n",
    ")\n",
    "#width = 12 for page\n",
    "app.layout = html.Div([\n",
    "    dbc.Row(dbc.Col(dbc.Alert(\"Hello, Bootstrap!\", className=\"m-5\"))),\n",
    "        dbc.Row(\n",
    "            [   \n",
    "                dbc.Col(dbc.Accordion(\n",
    "        [\n",
    "            dbc.AccordionItem(\n",
    "                [\n",
    "                    html.P(\"This is the content of the first section\"),\n",
    "                    dbc.Button(\"Click here\"),\n",
    "                ],\n",
    "                title=\"Item 1\",\n",
    "            ),\n",
    "            dbc.AccordionItem(\n",
    "                [\n",
    "                    html.P(\"This is the content of the second section\"),\n",
    "                    dbc.Button(\"Don't click me!\", color=\"danger\"),\n",
    "                ],\n",
    "                title=\"Item 2\",\n",
    "            ),\n",
    "            dbc.AccordionItem(\n",
    "                \"This is the content of the third section\",\n",
    "                title=\"Item 3\",\n",
    "            ),\n",
    "        ],\n",
    "    ),width=4),\n",
    "                dbc.Col(dcc.Graph(),width=4),\n",
    "                dbc.Col(dcc.Graph(),width=4),\n",
    "            ]),\n",
    "    dbc.Row(\n",
    "            [\n",
    "                dbc.Col(dcc.Graph(),width=12)\n",
    "            ])\n",
    "]\n",
    "                     )\n",
    "\n",
    "# Launch in a new browser tab\n",
    "app.run(debug=True,jupyter_mode=\"external\")\n",
    "\n",
    "if __name__ == \"__main__\":\n",
    "    app.run()\n",
    "\n"
   ]
  },
  {
   "cell_type": "code",
   "execution_count": 18,
   "id": "9390d57a",
   "metadata": {},
   "outputs": [
    {
     "name": "stdout",
     "output_type": "stream",
     "text": [
      "Dash app running on http://127.0.0.1:8050/\n"
     ]
    },
    {
     "data": {
      "text/html": [
       "\n",
       "        <iframe\n",
       "            width=\"100%\"\n",
       "            height=\"650\"\n",
       "            src=\"http://127.0.0.1:8050/\"\n",
       "            frameborder=\"0\"\n",
       "            allowfullscreen\n",
       "            \n",
       "        ></iframe>\n",
       "        "
      ],
      "text/plain": [
       "<IPython.lib.display.IFrame at 0x1bdc218ebe0>"
      ]
     },
     "metadata": {},
     "output_type": "display_data"
    }
   ],
   "source": [
    "import dash\n",
    "import dash_bootstrap_components as dbc\n",
    "from dash import html,dcc\n",
    "\n",
    "app = dash.Dash(\n",
    "    external_stylesheets=[dbc.themes.DARKLY]\n",
    ")\n",
    "#width = 12 for page\n",
    "app.layout = html.Div([\n",
    "    dbc.Row(dbc.Col(dbc.Alert(\"Hello, Bootstrap!\", className=\"m-5\"))),\n",
    "        dbc.Row(\n",
    "            [   \n",
    "                dbc.Col(dbc.Accordion(\n",
    "        [\n",
    "            dbc.AccordionItem(\n",
    "                [\n",
    "                    html.P(\"This is the content of the first section\"),\n",
    "                    dbc.Button(\"Click here\"),\n",
    "                ],\n",
    "                title=\"Item 1\",\n",
    "            ),\n",
    "            dbc.AccordionItem(\n",
    "                [\n",
    "                    html.P(\"This is the content of the second section\"),\n",
    "                    dbc.Button(\"Don't click me!\", color=\"danger\"),\n",
    "                ],\n",
    "                title=\"Item 2\",\n",
    "            ),\n",
    "            dbc.AccordionItem(\n",
    "                \"This is the content of the third section\",\n",
    "                title=\"Item 3\",\n",
    "            ),\n",
    "        ],\n",
    "    ),width=4),\n",
    "                dbc.Col(dcc.Graph(),width=4),\n",
    "                dbc.Col(dcc.Graph(),width=4),\n",
    "            ],align=\"center\"),\n",
    "    dbc.Row(\n",
    "            [\n",
    "                dbc.Col(dcc.Graph(),width=12)\n",
    "            ])\n",
    "]\n",
    "                     )\n",
    "\n",
    "# Launch in a new browser tab\n",
    "app.run(debug=True,jupyter_mode=\"external\")\n",
    "\n",
    "if __name__ == \"__main__\":\n",
    "    app.run()\n",
    "\n"
   ]
  },
  {
   "cell_type": "code",
   "execution_count": 19,
   "id": "90dc345b",
   "metadata": {},
   "outputs": [
    {
     "name": "stdout",
     "output_type": "stream",
     "text": [
      "Dash app running on http://127.0.0.1:8050/\n"
     ]
    },
    {
     "data": {
      "text/html": [
       "\n",
       "        <iframe\n",
       "            width=\"100%\"\n",
       "            height=\"650\"\n",
       "            src=\"http://127.0.0.1:8050/\"\n",
       "            frameborder=\"0\"\n",
       "            allowfullscreen\n",
       "            \n",
       "        ></iframe>\n",
       "        "
      ],
      "text/plain": [
       "<IPython.lib.display.IFrame at 0x1bdc248acd0>"
      ]
     },
     "metadata": {},
     "output_type": "display_data"
    }
   ],
   "source": [
    "import dash\n",
    "import dash_bootstrap_components as dbc\n",
    "from dash import html,dcc\n",
    "\n",
    "app = dash.Dash(\n",
    "    external_stylesheets=[dbc.themes.BOOTSTRAP]\n",
    ")\n",
    "#width = 12 for page\n",
    "app.layout = html.Div([\n",
    "    dbc.Row(dbc.Alert(\"Hello, Bootstrap!\", color=\"danger\")),\n",
    "        dbc.Row(\n",
    "            [   \n",
    "                dbc.Col(dbc.Accordion(\n",
    "        [\n",
    "            dbc.AccordionItem(\n",
    "                [\n",
    "                    html.P(\"This is the content of the first section\"),\n",
    "                    dbc.Button(\"Click here\"),\n",
    "                ],\n",
    "                title=\"Item 1\",\n",
    "            ),\n",
    "            dbc.AccordionItem(\n",
    "                [\n",
    "                    html.P(\"This is the content of the second section\"),\n",
    "                    dbc.Button(\"Don't click me!\", color=\"danger\"),\n",
    "                ],\n",
    "                title=\"Item 2\",\n",
    "            ),\n",
    "            dbc.AccordionItem(\n",
    "                \"This is the content of the third section\",\n",
    "                title=\"Item 3\",\n",
    "            ),\n",
    "        ],\n",
    "    ),width=4),\n",
    "                dbc.Col(dcc.Graph(),width=4),\n",
    "                dbc.Col(dcc.Graph(),width=4),\n",
    "            ],align=\"center\"),\n",
    "    dbc.Row(\n",
    "            [\n",
    "                dbc.Col(dcc.Graph(),width=12)\n",
    "            ])\n",
    "]\n",
    "                     )\n",
    "\n",
    "# Launch in a new browser tab\n",
    "app.run(debug=True,jupyter_mode=\"external\")\n",
    "\n",
    "if __name__ == \"__main__\":\n",
    "    app.run()\n",
    "\n"
   ]
  },
  {
   "cell_type": "code",
   "execution_count": 20,
   "id": "fc368cec",
   "metadata": {},
   "outputs": [
    {
     "name": "stdout",
     "output_type": "stream",
     "text": [
      "Dash app running on http://127.0.0.1:8050/\n"
     ]
    },
    {
     "data": {
      "text/html": [
       "\n",
       "        <iframe\n",
       "            width=\"100%\"\n",
       "            height=\"650\"\n",
       "            src=\"http://127.0.0.1:8050/\"\n",
       "            frameborder=\"0\"\n",
       "            allowfullscreen\n",
       "            \n",
       "        ></iframe>\n",
       "        "
      ],
      "text/plain": [
       "<IPython.lib.display.IFrame at 0x1bdc2169730>"
      ]
     },
     "metadata": {},
     "output_type": "display_data"
    }
   ],
   "source": [
    "import dash\n",
    "import dash_bootstrap_components as dbc\n",
    "from dash import html,dcc\n",
    "\n",
    "app = dash.Dash(\n",
    "    external_stylesheets=[dbc.themes.BOOTSTRAP]\n",
    ")\n",
    "#width = 12 for page\n",
    "app.layout = html.Div([\n",
    "    dbc.Row(dbc.Alert(\"Hello, Bootstrap!\", color=\"danger\")),\n",
    "        dbc.Row(\n",
    "            [   \n",
    "                dbc.Col(dbc.Accordion(\n",
    "        [\n",
    "            dbc.AccordionItem(\n",
    "                [\n",
    "                    html.P(\"This is the content of the first section\"),\n",
    "                    dbc.Button(\"Click here\"),\n",
    "                ],\n",
    "                title=\"Item 1\",\n",
    "            ),\n",
    "            dbc.AccordionItem(\n",
    "                [\n",
    "                    html.P(\"This is the content of the second section\"),\n",
    "                    dbc.Button(\"Don't click me!\", color=\"danger\"),\n",
    "                ],\n",
    "                title=\"Item 2\",\n",
    "            ),\n",
    "            dbc.AccordionItem(\n",
    "                \"This is the content of the third section\",\n",
    "                title=\"Item 3\",\n",
    "            ),\n",
    "        ],\n",
    "    ),width=4),\n",
    "                dbc.Col(dcc.Graph(),width=4),\n",
    "                dbc.Col(dcc.Graph(),width=4),\n",
    "            ],align=\"center\"),\n",
    "    dbc.Row(\n",
    "            [\n",
    "                dbc.Col(dcc.Graph(),width=12)\n",
    "            ]),\n",
    "            dbc.Button(\"Danger\", color=\"danger\", className=\"me-1\"),\n",
    "\n",
    "]\n",
    "                     )\n",
    "\n",
    "# Launch in a new browser tab\n",
    "app.run(debug=True,jupyter_mode=\"external\")\n",
    "\n",
    "if __name__ == \"__main__\":\n",
    "    app.run()\n",
    "\n"
   ]
  },
  {
   "cell_type": "code",
   "execution_count": 21,
   "id": "644f374d",
   "metadata": {},
   "outputs": [
    {
     "name": "stdout",
     "output_type": "stream",
     "text": [
      "Dash app running on http://127.0.0.1:8050/\n"
     ]
    },
    {
     "data": {
      "text/html": [
       "\n",
       "        <iframe\n",
       "            width=\"100%\"\n",
       "            height=\"650\"\n",
       "            src=\"http://127.0.0.1:8050/\"\n",
       "            frameborder=\"0\"\n",
       "            allowfullscreen\n",
       "            \n",
       "        ></iframe>\n",
       "        "
      ],
      "text/plain": [
       "<IPython.lib.display.IFrame at 0x1bdc22b2a00>"
      ]
     },
     "metadata": {},
     "output_type": "display_data"
    }
   ],
   "source": [
    "\n",
    "import dash\n",
    "import dash_bootstrap_components as dbc\n",
    "from dash import html,dcc\n",
    "\n",
    "app = dash.Dash(\n",
    "    external_stylesheets=[dbc.themes.BOOTSTRAP]\n",
    ")\n",
    "#width = 12 for page\n",
    "app.layout = html.Div([\n",
    "    dbc.Row(dbc.Alert(\"Hello, Bootstrap!\", color=\"danger\")),\n",
    "        dbc.Row(\n",
    "            [   \n",
    "                dbc.Col(dbc.Accordion(\n",
    "        [\n",
    "            dbc.AccordionItem(\n",
    "                [\n",
    "                    html.P(\"This is the content of the first section\"),\n",
    "                    dbc.Button(\"Click here\"),\n",
    "                ],\n",
    "                title=\"Item 1\",\n",
    "            ),\n",
    "            dbc.AccordionItem(\n",
    "                [\n",
    "                    html.P(\"This is the content of the second section\"),\n",
    "                    dbc.Button(\"Don't click me!\", color=\"danger\"),\n",
    "                ],\n",
    "                title=\"Item 2\",\n",
    "            ),\n",
    "            dbc.AccordionItem(\n",
    "                \"This is the content of the third section\",\n",
    "                title=\"Item 3\",\n",
    "            ),\n",
    "        ],\n",
    "    ),width=4),\n",
    "                dbc.Col(dcc.Graph(),width=4),\n",
    "                dbc.Col(dcc.Graph(),width=4),\n",
    "            ],align=\"center\"),\n",
    "    dbc.Row(\n",
    "            [\n",
    "                dbc.Col(dcc.Graph(),width=12)\n",
    "            ]),\n",
    "            dbc.Button(\"Danger\", color=\"danger\", className=\"me-1\"),\n",
    "    \n",
    "html.Div(\n",
    "    [\n",
    "        dbc.Button(\"Button 1\", className=\"me-md-2\"),\n",
    "        dbc.Button(\"Button 2\", className=\"me-md-2\"),\n",
    "        dbc.Button(\"Button 3\"),\n",
    "    ],\n",
    "    className=\"d-grid gap-2 d-md-flex justify-content-md-end\",\n",
    ")\n",
    "\n",
    "]\n",
    "                     )\n",
    "\n",
    "# Launch in a new browser tab\n",
    "app.run(debug=True,jupyter_mode=\"external\")\n",
    "\n",
    "if __name__ == \"__main__\":\n",
    "    app.run()\n"
   ]
  },
  {
   "cell_type": "code",
   "execution_count": null,
   "id": "04bafcba",
   "metadata": {},
   "outputs": [],
   "source": []
  }
 ],
 "metadata": {
  "kernelspec": {
   "display_name": "Python 3 (ipykernel)",
   "language": "python",
   "name": "python3"
  },
  "language_info": {
   "codemirror_mode": {
    "name": "ipython",
    "version": 3
   },
   "file_extension": ".py",
   "mimetype": "text/x-python",
   "name": "python",
   "nbconvert_exporter": "python",
   "pygments_lexer": "ipython3",
   "version": "3.9.12"
  }
 },
 "nbformat": 4,
 "nbformat_minor": 5
}
