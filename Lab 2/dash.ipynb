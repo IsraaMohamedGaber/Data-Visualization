{
 "cells": [
  {
   "cell_type": "code",
   "execution_count": 1,
   "id": "fc361b5f",
   "metadata": {},
   "outputs": [],
   "source": [
    "#pip install dash\n"
   ]
  },
  {
   "cell_type": "markdown",
   "id": "300cf98e",
   "metadata": {},
   "source": [
    "# Resources\n",
    "# https://dash.plotly.com/layout \n",
    "# https://dash.plotly.com/dash-core-components\n",
    "# https://dash.plotly.com/dash-core-components/dropdown\n",
    "# https://dash.plotly.com/dash-core-components/slider\n",
    "# https://dash.plotly.com/dash-bio\n"
   ]
  },
  {
   "cell_type": "code",
   "execution_count": 2,
   "id": "4bdd6972",
   "metadata": {},
   "outputs": [],
   "source": [
    "from dash import html,dcc,Dash\n"
   ]
  },
  {
   "cell_type": "code",
   "execution_count": 3,
   "id": "0f74b06c",
   "metadata": {},
   "outputs": [],
   "source": [
    "app=Dash()\n"
   ]
  },
  {
   "cell_type": "code",
   "execution_count": 4,
   "id": "9bfeb3ac",
   "metadata": {},
   "outputs": [],
   "source": [
    "#empty page\n",
    "app.layout=html.Div()"
   ]
  },
  {
   "cell_type": "code",
   "execution_count": 5,
   "id": "7cf8c731",
   "metadata": {},
   "outputs": [],
   "source": [
    "\n",
    "#run in same cell\n",
    "#app.run(debug=True) "
   ]
  },
  {
   "cell_type": "code",
   "execution_count": 6,
   "id": "8175f4f9",
   "metadata": {},
   "outputs": [
    {
     "name": "stdout",
     "output_type": "stream",
     "text": [
      "Dash app running on http://127.0.0.1:8050/\n"
     ]
    }
   ],
   "source": [
    "#run in another tab\n",
    "app.run(debug=True,jupyter_mode=\"external\")"
   ]
  },
  {
   "cell_type": "code",
   "execution_count": null,
   "id": "d9feb616",
   "metadata": {},
   "outputs": [],
   "source": []
  },
  {
   "cell_type": "code",
   "execution_count": 7,
   "id": "6deda3a0",
   "metadata": {},
   "outputs": [],
   "source": [
    "app=Dash()\n"
   ]
  },
  {
   "cell_type": "code",
   "execution_count": 8,
   "id": "c132c268",
   "metadata": {},
   "outputs": [],
   "source": [
    "#empty page\n",
    "app.layout=html.Div([                           #Div Take list inside it\n",
    "    html.H1(\"My First Dashboard !!!!\"),\n",
    "    html.Hr(), #Horzontal line \n",
    "    html.P(\"my text my text my text\")\n",
    "])"
   ]
  },
  {
   "cell_type": "code",
   "execution_count": 9,
   "id": "c6d5be58",
   "metadata": {},
   "outputs": [
    {
     "name": "stdout",
     "output_type": "stream",
     "text": [
      "Dash app running on http://127.0.0.1:8050/\n"
     ]
    }
   ],
   "source": [
    "#run in another tab\n",
    "app.run(debug=True,jupyter_mode=\"external\")"
   ]
  },
  {
   "cell_type": "code",
   "execution_count": null,
   "id": "97f64e1f",
   "metadata": {},
   "outputs": [],
   "source": []
  },
  {
   "cell_type": "code",
   "execution_count": 11,
   "id": "2917cd25",
   "metadata": {},
   "outputs": [],
   "source": [
    "app=Dash()\n"
   ]
  },
  {
   "cell_type": "code",
   "execution_count": 12,
   "id": "293550e2",
   "metadata": {},
   "outputs": [],
   "source": [
    "app.layout=html.Div(children=[                           #Div Take list inside it\n",
    "    html.H1(\"My First Dashboard !!!!\",style={\"color\":\"red\"}),#style after time we will use bootstarp\n",
    "    html.Hr(), #Horzontal line \n",
    "    html.P(\"my text my text my text\",style={\"background\":\"red\"})\n",
    "])"
   ]
  },
  {
   "cell_type": "code",
   "execution_count": 13,
   "id": "271c6704",
   "metadata": {},
   "outputs": [
    {
     "name": "stdout",
     "output_type": "stream",
     "text": [
      "Dash app running on http://127.0.0.1:8050/\n"
     ]
    }
   ],
   "source": [
    "app.run(debug=True,jupyter_mode=\"external\")\n"
   ]
  },
  {
   "cell_type": "code",
   "execution_count": null,
   "id": "5f9fbb34",
   "metadata": {},
   "outputs": [],
   "source": []
  },
  {
   "cell_type": "code",
   "execution_count": 14,
   "id": "799f6f54",
   "metadata": {},
   "outputs": [],
   "source": [
    "app=Dash()\n"
   ]
  },
  {
   "cell_type": "code",
   "execution_count": 15,
   "id": "e38b6ccd",
   "metadata": {},
   "outputs": [],
   "source": [
    "app.layout=html.Div(children=[                           #Div Take list inside it\n",
    "    html.H1(\"My First Dashboard !!!!\",style={\"color\":\"black\"}),#style after time we will use bootstarp\n",
    "    html.Hr(), #Horzontal line \n",
    "    html.P(\"my text my text my text\",style={\"background\":\"red\"})\n",
    "],style={\"background\":\"red\",'textAlign': 'center'})  #style of div"
   ]
  },
  {
   "cell_type": "code",
   "execution_count": 16,
   "id": "fc2b611e",
   "metadata": {},
   "outputs": [
    {
     "name": "stdout",
     "output_type": "stream",
     "text": [
      "Dash app running on http://127.0.0.1:8050/\n"
     ]
    }
   ],
   "source": [
    "#run in another tab\n",
    "app.run(debug=True,jupyter_mode=\"external\")"
   ]
  },
  {
   "cell_type": "code",
   "execution_count": null,
   "id": "f236ed08",
   "metadata": {},
   "outputs": [],
   "source": []
  },
  {
   "cell_type": "code",
   "execution_count": 17,
   "id": "52477775",
   "metadata": {},
   "outputs": [],
   "source": [
    "app=Dash()\n"
   ]
  },
  {
   "cell_type": "code",
   "execution_count": 18,
   "id": "e30e235f",
   "metadata": {},
   "outputs": [],
   "source": [
    "#tip for project make function and call it\n",
    "def intr():#make return inform of list sue to div take list\n",
    "    return[ html.H1(\"My First Dashboard !!!!\",style={\"color\":\"black\"}),#style after time we will use bootstarp\n",
    "    html.Hr(), #Horzontal line \n",
    "    html.P(\"my text my text my text\",style={\"background\":\"red\"})]"
   ]
  },
  {
   "cell_type": "code",
   "execution_count": 19,
   "id": "e36d0df6",
   "metadata": {},
   "outputs": [],
   "source": [
    "app.layout=html.Div(children=                         #Div Take list inside it\n",
    "    intr()\n",
    ",style={\"background\":\"red\",'textAlign': 'center'})  #style of div"
   ]
  },
  {
   "cell_type": "code",
   "execution_count": 20,
   "id": "82780197",
   "metadata": {},
   "outputs": [
    {
     "name": "stdout",
     "output_type": "stream",
     "text": [
      "Dash app running on http://127.0.0.1:8050/\n"
     ]
    }
   ],
   "source": [
    "#run in another tab\n",
    "app.run(debug=True,jupyter_mode=\"external\")"
   ]
  },
  {
   "cell_type": "code",
   "execution_count": null,
   "id": "242ea31f",
   "metadata": {},
   "outputs": [],
   "source": []
  },
  {
   "cell_type": "code",
   "execution_count": 21,
   "id": "7bdc32aa",
   "metadata": {},
   "outputs": [],
   "source": [
    "app=Dash()\n"
   ]
  },
  {
   "cell_type": "code",
   "execution_count": 22,
   "id": "2b2f619a",
   "metadata": {},
   "outputs": [],
   "source": [
    "app.layout=html.Div(children=[                           #Div Take list inside it\n",
    "    html.H1(\"My First Dashboard !!!!\",style={\"color\":\"black\"}),#style after time we will use bootstarp\n",
    "    html.Hr(), #Horzontal line \n",
    "    html.P(\"my text my text my text\",style={\"background\":\"red\"}),\n",
    "    dcc.Dropdown(['New York City', 'Montréal', 'San Francisco'], 'Montréal') #default value is Montréal\n",
    "\n",
    "],style={\"background\":\"red\",'textAlign': 'center'})  #style of div\n"
   ]
  },
  {
   "cell_type": "code",
   "execution_count": 23,
   "id": "2400d8d7",
   "metadata": {},
   "outputs": [
    {
     "name": "stdout",
     "output_type": "stream",
     "text": [
      "Dash app running on http://127.0.0.1:8050/\n"
     ]
    }
   ],
   "source": [
    "#run in another tab\n",
    "app.run(debug=True,jupyter_mode=\"external\")"
   ]
  },
  {
   "cell_type": "code",
   "execution_count": null,
   "id": "04ff1638",
   "metadata": {},
   "outputs": [],
   "source": []
  },
  {
   "cell_type": "code",
   "execution_count": 24,
   "id": "ccdabda3",
   "metadata": {},
   "outputs": [],
   "source": [
    "app=Dash()\n"
   ]
  },
  {
   "cell_type": "code",
   "execution_count": 25,
   "id": "9517e4c4",
   "metadata": {},
   "outputs": [],
   "source": [
    "app.layout=html.Div(children=[                           #Div Take list inside it\n",
    "    html.H1(\"My First Dashboard !!!!\",style={\"color\":\"black\"}),#style after time we will use bootstarp\n",
    "    html.Hr(), #Horzontal line \n",
    "    html.P(\"my text my text my text\",style={\"background\":\"red\"}),\n",
    "    dcc.Dropdown(['New York City', 'Montréal', 'San Francisco'], 'Montréal',multi=True) #default value is Montréal\n",
    "\n",
    "],style={\"background\":\"red\",'textAlign': 'center'})  #style of div"
   ]
  },
  {
   "cell_type": "code",
   "execution_count": 26,
   "id": "9465319a",
   "metadata": {},
   "outputs": [
    {
     "name": "stdout",
     "output_type": "stream",
     "text": [
      "Dash app running on http://127.0.0.1:8050/\n"
     ]
    }
   ],
   "source": [
    "#run in another tab\n",
    "app.run(debug=True,jupyter_mode=\"external\")"
   ]
  },
  {
   "cell_type": "code",
   "execution_count": null,
   "id": "43338e04",
   "metadata": {},
   "outputs": [],
   "source": []
  },
  {
   "cell_type": "code",
   "execution_count": 27,
   "id": "8bac4565",
   "metadata": {},
   "outputs": [],
   "source": [
    "app=Dash()\n"
   ]
  },
  {
   "cell_type": "code",
   "execution_count": 28,
   "id": "a2ade0fa",
   "metadata": {},
   "outputs": [],
   "source": [
    "app.layout=html.Div(children=[                           #Div Take list inside it\n",
    "    html.H1(\"My First Dashboard !!!!\",style={\"color\":\"black\"}),#style after time we will use bootstarp\n",
    "    html.Hr(), #Horzontal line \n",
    "    html.P(\"my text my text my text\",style={\"background\":\"red\"}),\n",
    "    dcc.Dropdown(['New York City', 'Montréal', 'San Francisco'], 'Montréal',multi=True,searchable=False) #default value is Montréal\n",
    "\n",
    "],style={\"background\":\"red\",'textAlign': 'center'})  #style of div"
   ]
  },
  {
   "cell_type": "code",
   "execution_count": 29,
   "id": "06f1a2b4",
   "metadata": {},
   "outputs": [
    {
     "name": "stdout",
     "output_type": "stream",
     "text": [
      "Dash app running on http://127.0.0.1:8050/\n"
     ]
    }
   ],
   "source": [
    "\n",
    "#run in another tab\n",
    "app.run(debug=True,jupyter_mode=\"external\")"
   ]
  },
  {
   "cell_type": "code",
   "execution_count": null,
   "id": "33aaa7c0",
   "metadata": {},
   "outputs": [],
   "source": []
  },
  {
   "cell_type": "code",
   "execution_count": 30,
   "id": "a3558ae3",
   "metadata": {},
   "outputs": [],
   "source": [
    "import plotly.express as px\n",
    "import pandas as pd"
   ]
  },
  {
   "cell_type": "code",
   "execution_count": 31,
   "id": "d911fffe",
   "metadata": {},
   "outputs": [],
   "source": [
    "df=px.data.gapminder()\n"
   ]
  },
  {
   "cell_type": "code",
   "execution_count": 32,
   "id": "2849f785",
   "metadata": {},
   "outputs": [],
   "source": [
    "\n",
    "fig=px.scatter(data_frame=df[df['year']==2007],x='gdpPercap',y='lifeExp',color='continent')\n",
    "#make graph in spearte file and make sure it work will"
   ]
  },
  {
   "cell_type": "code",
   "execution_count": 33,
   "id": "b234678a",
   "metadata": {},
   "outputs": [],
   "source": [
    "app=Dash()\n"
   ]
  },
  {
   "cell_type": "code",
   "execution_count": 34,
   "id": "e7042a95",
   "metadata": {},
   "outputs": [],
   "source": [
    "app.layout=html.Div(children=[                           #Div Take list inside it\n",
    "    html.H1(\"My First Dashboard !!!!\",style={\"color\":\"black\"}),#style after time we will use bootstarp\n",
    "    html.Hr(), #Horzontal line \n",
    "    html.P(\"my text my text my text\",style={\"background\":\"red\"}),\n",
    "    dcc.Dropdown(['New York City', 'Montréal', 'San Francisco'], 'Montréal',multi=True,searchable=False), #default value is Montréal\n",
    "    dcc.Graph(figure=fig)\n",
    "],style={\"background\":\"red\",'textAlign': 'center'})  #style of div"
   ]
  },
  {
   "cell_type": "code",
   "execution_count": 35,
   "id": "2f6701c9",
   "metadata": {},
   "outputs": [
    {
     "name": "stdout",
     "output_type": "stream",
     "text": [
      "Dash app running on http://127.0.0.1:8050/\n"
     ]
    }
   ],
   "source": [
    "#run in another tab\n",
    "app.run(debug=True,jupyter_mode=\"external\")"
   ]
  },
  {
   "cell_type": "code",
   "execution_count": 36,
   "id": "8e126b96",
   "metadata": {},
   "outputs": [],
   "source": [
    "#make Restart to stop app\n"
   ]
  },
  {
   "cell_type": "code",
   "execution_count": null,
   "id": "cce3de79",
   "metadata": {},
   "outputs": [],
   "source": []
  },
  {
   "cell_type": "code",
   "execution_count": 37,
   "id": "283745d5",
   "metadata": {},
   "outputs": [],
   "source": [
    "\n",
    "import dash\n",
    "from dash import html\n",
    "from dash import dcc\n",
    "from dash.dependencies import Input,Output # this not related to text box related to dependencies"
   ]
  },
  {
   "cell_type": "code",
   "execution_count": 38,
   "id": "d120a6f4",
   "metadata": {},
   "outputs": [],
   "source": [
    "app=dash.Dash()\n"
   ]
  },
  {
   "cell_type": "code",
   "execution_count": 39,
   "id": "749a4afd",
   "metadata": {},
   "outputs": [],
   "source": [
    "app.layout=html.Div([\n",
    "    dcc.Input(id='my-input',value=None,type='text'), #id is unique\n",
    "    html.Div(id='my_Div')\n",
    "])\n"
   ]
  },
  {
   "cell_type": "code",
   "execution_count": 40,
   "id": "e4e60b1e",
   "metadata": {},
   "outputs": [],
   "source": [
    "@app.callback(\n",
    "    Output(component_id='my_Div',component_property='children'),\n",
    "    Input(component_id='my-input',component_property='value') #this line to take input from input #the name of component_property is constant\n",
    ")\n",
    "def update_My_Div(input_value): #take input from callback Input\n",
    "    \"\"\"decorater\"\"\"\n",
    "    return'you write:{}'.format(input_value)\n"
   ]
  },
  {
   "cell_type": "code",
   "execution_count": 41,
   "id": "9a16d1ee",
   "metadata": {},
   "outputs": [
    {
     "name": "stdout",
     "output_type": "stream",
     "text": [
      "Dash app running on http://127.0.0.1:8050/\n"
     ]
    }
   ],
   "source": [
    "app.run(debug=True,jupyter_mode=\"external\")\n"
   ]
  },
  {
   "cell_type": "code",
   "execution_count": null,
   "id": "66641e75",
   "metadata": {},
   "outputs": [],
   "source": []
  },
  {
   "cell_type": "code",
   "execution_count": 42,
   "id": "78811214",
   "metadata": {},
   "outputs": [],
   "source": [
    "#example one input and one output\n"
   ]
  },
  {
   "cell_type": "code",
   "execution_count": 43,
   "id": "50d9854a",
   "metadata": {},
   "outputs": [],
   "source": [
    "import dash\n",
    "from dash import html\n",
    "from dash import dcc\n",
    "from dash.dependencies import Input,Output # this not related to text box related to dependencies\n",
    "import plotly.express as px\n",
    "import pandas as pd"
   ]
  },
  {
   "cell_type": "code",
   "execution_count": 44,
   "id": "7ef795b4",
   "metadata": {},
   "outputs": [],
   "source": [
    "df=px.data.gapminder()\n"
   ]
  },
  {
   "cell_type": "code",
   "execution_count": 45,
   "id": "f0759218",
   "metadata": {},
   "outputs": [],
   "source": [
    "app=dash.Dash()\n"
   ]
  },
  {
   "cell_type": "code",
   "execution_count": 46,
   "id": "176cbba4",
   "metadata": {},
   "outputs": [],
   "source": [
    "app.layout=html.Div([\n",
    "    html.H1('Call Back Example 2',style={'textAlign':'center'}),\n",
    "    dcc.Graph(id='myGraph'),\n",
    "    dcc.Slider(\n",
    "        id='my-slider',\n",
    "        min=df['year'].min(),\n",
    "        max=df['year'].max(),\n",
    "        value=df['year'].min(),\n",
    "        step=None,\n",
    "    marks={str(years):str(years) for years in df['year'].unique()}    \n",
    "    )\n",
    "])\n"
   ]
  },
  {
   "cell_type": "code",
   "execution_count": 47,
   "id": "e50b4330",
   "metadata": {},
   "outputs": [],
   "source": [
    "@app.callback(\n",
    "    Output('myGraph','figure'),\n",
    "    Input('my-slider','value')) #-> when slider move update value of graph in above line\n",
    "def update_graph(slidervalue):\n",
    "    \"\"\"decorater function take year\n",
    "    then make filter in specfic year and rturn figure after filtre\"\"\"\n",
    "    filtered_df=df[df['year']==slidervalue]\n",
    "    fig=px.scatter(filtered_df,x=\"gdpPercap\",y=\"lifeExp\",size=\"pop\",color=\"continent\")\n",
    "    return fig"
   ]
  },
  {
   "cell_type": "code",
   "execution_count": 48,
   "id": "d6b29d2e",
   "metadata": {},
   "outputs": [
    {
     "name": "stdout",
     "output_type": "stream",
     "text": [
      "Dash app running on http://127.0.0.1:8050/\n"
     ]
    }
   ],
   "source": [
    "app.run(debug=True,jupyter_mode=\"external\")\n"
   ]
  },
  {
   "cell_type": "code",
   "execution_count": null,
   "id": "08905d4b",
   "metadata": {},
   "outputs": [],
   "source": []
  },
  {
   "cell_type": "code",
   "execution_count": 49,
   "id": "f000a4fc",
   "metadata": {},
   "outputs": [],
   "source": [
    "#example two input and one output\n"
   ]
  },
  {
   "cell_type": "code",
   "execution_count": 50,
   "id": "0345bac9",
   "metadata": {},
   "outputs": [],
   "source": [
    "import dash\n",
    "from dash import html\n",
    "from dash import dcc\n",
    "from dash.dependencies import Input,Output,State\n",
    "import plotly.express as px\n",
    "import pandas as pd\n",
    "import numpy as np"
   ]
  },
  {
   "cell_type": "code",
   "execution_count": 51,
   "id": "746c15d4",
   "metadata": {},
   "outputs": [],
   "source": [
    "df=px.data.gapminder()\n"
   ]
  },
  {
   "cell_type": "code",
   "execution_count": 52,
   "id": "50e7c288",
   "metadata": {},
   "outputs": [],
   "source": [
    "app=dash.Dash()\n"
   ]
  },
  {
   "cell_type": "code",
   "execution_count": 53,
   "id": "e422e455",
   "metadata": {},
   "outputs": [],
   "source": [
    "app.layout=html.Div([\n",
    "                        html.H1('Call back Example 3', style={'textAlign':'center'}),\n",
    "                       \n",
    "                        dcc.Graph(id='myGraph', figure={}),\n",
    "                        \n",
    "                       \n",
    "                        dcc.Slider(\n",
    "                                    id='my-slider',\n",
    "                                    min=df['year'].min(),\n",
    "                                    max=df['year'].max(),\n",
    "                                    value=df['year'].min(),\n",
    "                                    marks={str(years):str(years) for years in df['year'].unique()}\n",
    "                                ),\n",
    "                        dcc.Dropdown(\n",
    "                                        id='demo-dropdown',\n",
    "                                        options=[ \n",
    "                        {'label': str(continent), 'value': str(continent)}  for continent in df['continent'].unique()\n",
    "                                        ],\n",
    "                                        value=None,\n",
    "                                        multi=True,\n",
    "                                        placeholder='Choose a continent .....',        \n",
    "                                )\n",
    "\n",
    "])"
   ]
  },
  {
   "cell_type": "code",
   "execution_count": 54,
   "id": "10d10759",
   "metadata": {},
   "outputs": [],
   "source": [
    "@app.callback(\n",
    "    Output('myGraph','figure'),\n",
    "    Input('my-slider','value'),\n",
    "    Input('demo-dropdown','value'))\n",
    "def update_graph(slidervalue,dropdownvalue):\n",
    "    \"\"\"decorater\"\"\"\n",
    "    if dropdownvalue==None:\n",
    "        filtered_df=df[(df.year==slidervalue)]\n",
    "        fig=px.scatter(filtered_df,x=\"gdpPercap\", y=\"lifeExp\", size=\"pop\", color=\"continent\")\n",
    "    else:\n",
    "        filtered_df=df[(df.year==slidervalue) & (np.isin(df.continent,dropdownvalue))]\n",
    "        fig=px.scatter(filtered_df,x=\"gdpPercap\", y=\"lifeExp\", size=\"pop\", color=\"continent\", log_x=True)\n",
    "    return fig"
   ]
  },
  {
   "cell_type": "code",
   "execution_count": 56,
   "id": "02c18bd1",
   "metadata": {},
   "outputs": [
    {
     "name": "stdout",
     "output_type": "stream",
     "text": [
      "Dash app running on http://127.0.0.1:8050/\n"
     ]
    }
   ],
   "source": [
    "app.run(debug=True,jupyter_mode=\"external\")\n",
    "\n"
   ]
  },
  {
   "cell_type": "code",
   "execution_count": null,
   "id": "26bab17e",
   "metadata": {},
   "outputs": [],
   "source": []
  },
  {
   "cell_type": "code",
   "execution_count": 57,
   "id": "d493b50b",
   "metadata": {},
   "outputs": [],
   "source": [
    "#take two input and return two input\n"
   ]
  },
  {
   "cell_type": "code",
   "execution_count": 58,
   "id": "14d38596",
   "metadata": {},
   "outputs": [],
   "source": [
    "import dash\n",
    "from dash import html\n",
    "from dash import dcc\n",
    "from dash.dependencies import Input,Output\n",
    "import plotly.express as px\n",
    "import pandas as pd\n",
    "import numpy as np"
   ]
  },
  {
   "cell_type": "code",
   "execution_count": 59,
   "id": "d6ed103d",
   "metadata": {},
   "outputs": [],
   "source": [
    "df=px.data.gapminder()\n"
   ]
  },
  {
   "cell_type": "code",
   "execution_count": 60,
   "id": "d805425a",
   "metadata": {},
   "outputs": [],
   "source": [
    "app=dash.Dash()\n"
   ]
  },
  {
   "cell_type": "code",
   "execution_count": 61,
   "id": "8ba45c10",
   "metadata": {},
   "outputs": [],
   "source": [
    "app.layout=html.Div([\n",
    "                        html.H1('Call back Example 4', style={'textAlign':'center'}),\n",
    "                         dcc.Dropdown(\n",
    "                                        id='demo-dropdown',\n",
    "                                        options=[ \n",
    "                                           {'label': str(country), 'value': str(country)}  for country in df['continent'].unique()\n",
    "                                        ],\n",
    "                                        value=None,\n",
    "                                        placeholder='Choose a continent .....',\n",
    "                                    ),\n",
    "                        dcc.Graph(id='myGraph1'),\n",
    "                        dcc.Graph(id='myGraph2'),\n",
    "                        dcc.Slider(\n",
    "                                    id='my-slider',\n",
    "                                    min=df['year'].min(),\n",
    "                                    max=df['year'].max(),\n",
    "                                    value=df['year'].min(),\n",
    "                                    marks={str(years):str(years) for years in df['year'].unique()}\n",
    "        )\n",
    "])"
   ]
  },
  {
   "cell_type": "code",
   "execution_count": 62,
   "id": "8b74f276",
   "metadata": {},
   "outputs": [],
   "source": [
    "@app.callback(\n",
    "    Output('myGraph1','figure'),\n",
    "    Output('myGraph2','figure'),\n",
    "    Input('my-slider','value'),\n",
    "    Input('demo-dropdown','value'))\n",
    "def update_graph(slidervalue,dropdownvalue):\n",
    "    if dropdownvalue==None:\n",
    "        filtered_df=df[(df.year==slidervalue)]\n",
    "        fig1=px.scatter(filtered_df,x=\"gdpPercap\", y=\"lifeExp\", size=\"pop\", color=\"continent\")\n",
    "        fig2=px.scatter(filtered_df,x=\"gdpPercap\", y=\"lifeExp\", size=\"pop\", color=\"continent\")\n",
    "    else:\n",
    "        filtered_df=df[(df.year==slidervalue) & (df.continent==dropdownvalue)]\n",
    "        fig1=px.scatter(filtered_df,x=\"gdpPercap\", y=\"lifeExp\", size=\"pop\", color=\"continent\", log_x=True)\n",
    "        fig2=px.scatter(filtered_df,x=\"gdpPercap\", y=\"lifeExp\", size=\"pop\", color=\"continent\")\n",
    "    return fig1,fig2"
   ]
  },
  {
   "cell_type": "code",
   "execution_count": 63,
   "id": "f09d3eda",
   "metadata": {},
   "outputs": [
    {
     "name": "stdout",
     "output_type": "stream",
     "text": [
      "Dash app running on http://127.0.0.1:8050/\n"
     ]
    }
   ],
   "source": [
    "app.run(debug=True,jupyter_mode=\"external\")\n"
   ]
  },
  {
   "cell_type": "code",
   "execution_count": null,
   "id": "7fc275c8",
   "metadata": {},
   "outputs": [],
   "source": []
  },
  {
   "cell_type": "code",
   "execution_count": 64,
   "id": "6da0f998",
   "metadata": {},
   "outputs": [],
   "source": [
    "import dash\n",
    "from dash import html\n",
    "from dash import dcc\n",
    "from dash.dependencies import Input,Output, State\n",
    "import plotly.express as px\n",
    "import pandas as pd"
   ]
  },
  {
   "cell_type": "code",
   "execution_count": 65,
   "id": "b7b5025c",
   "metadata": {},
   "outputs": [],
   "source": [
    "df=px.data.gapminder()\n"
   ]
  },
  {
   "cell_type": "code",
   "execution_count": 66,
   "id": "190df775",
   "metadata": {},
   "outputs": [],
   "source": [
    "app=dash.Dash()\n"
   ]
  },
  {
   "cell_type": "code",
   "execution_count": 67,
   "id": "dffae67f",
   "metadata": {},
   "outputs": [],
   "source": [
    "app.layout=html.Div([\n",
    "                        html.H1('Call back Example state', style={'textAlign':'center'},id='h'),\n",
    "html.Button(id='submit-button-state', children='submit',n_clicks=0),\n",
    "                        dcc.Dropdown(\n",
    "                                        id='demo-dropdown',\n",
    "                                        options=[ \n",
    "                                           {'label': str(country), 'value': str(country)}  for country in df['continent'].unique()\n",
    "                                        ],\n",
    "                                        value=None,\n",
    "                                        placeholder='Choose a continent .....',\n",
    "                                    ),\n",
    "                        dcc.Graph(id='myGraph1', figure={}),\n",
    "                        dcc.Graph(id='myGraph2', figure={}),\n",
    "                        dcc.Slider(\n",
    "                                    id='my-slider',\n",
    "                                    min=df['year'].min(),\n",
    "                                    max=df['year'].max(),\n",
    "                                    value=df['year'].min(),\n",
    "                                    marks={str(years):str(years) for years in df['year'].unique()}\n",
    "        )\n",
    "])"
   ]
  },
  {
   "cell_type": "code",
   "execution_count": 68,
   "id": "e2c44621",
   "metadata": {},
   "outputs": [],
   "source": [
    "@app.callback(\n",
    "    Output('myGraph1','figure'),\n",
    "    Output('myGraph2','figure'),\n",
    "    Output('h','children'),\n",
    "    State('my-slider','value'),\n",
    "    State('demo-dropdown','value'),\n",
    "    Input('submit-button-state', 'n_clicks'),\n",
    "    )\n",
    "def update_graph(slidervalue,dropdownvalue,n):\n",
    "    if dropdownvalue==None:\n",
    "        filtered_df=df[(df.year==slidervalue)]\n",
    "        fig1=px.scatter(filtered_df,x=\"gdpPercap\", y=\"lifeExp\", size=\"pop\", color=\"continent\")\n",
    "        fig2=px.scatter(filtered_df,x=\"gdpPercap\", y=\"lifeExp\", size=\"pop\", color=\"continent\")\n",
    "    else:\n",
    "        filtered_df=df[(df.year==slidervalue) & (df.continent==dropdownvalue)] \n",
    "        fig1=px.scatter(filtered_df,x=\"gdpPercap\", y=\"lifeExp\", size=\"pop\", color=\"continent\", log_x=True)\n",
    "        fig2=px.scatter(filtered_df,x=\"gdpPercap\", y=\"lifeExp\", size=\"pop\", color=\"continent\")\n",
    "    return fig1,fig2,n"
   ]
  },
  {
   "cell_type": "code",
   "execution_count": 69,
   "id": "0bdc1642",
   "metadata": {},
   "outputs": [
    {
     "name": "stdout",
     "output_type": "stream",
     "text": [
      "Dash app running on http://127.0.0.1:8050/\n"
     ]
    }
   ],
   "source": [
    "app.run(debug=True,jupyter_mode=\"external\")\n"
   ]
  },
  {
   "cell_type": "code",
   "execution_count": null,
   "id": "42b99091",
   "metadata": {},
   "outputs": [],
   "source": []
  },
  {
   "cell_type": "code",
   "execution_count": 70,
   "id": "d9b2b5ce",
   "metadata": {},
   "outputs": [],
   "source": [
    "\n",
    "#pip install pyserial\n",
    "#!pip install dash-daq"
   ]
  },
  {
   "cell_type": "code",
   "execution_count": 71,
   "id": "151fcbcd",
   "metadata": {},
   "outputs": [],
   "source": [
    "\n",
    "import dash\n",
    "from dash.dcc.Interval import Interval\n",
    "from dash.html.Div import Div\n",
    "import serial \n",
    "import time\n",
    "from dash import html \n",
    "from dash import dcc\n",
    "from dash.dependencies import Input,Output,State\n",
    "from collections import deque\n",
    "import plotly.express as px\n",
    "import dash_daq as daq\n",
    "import numpy as np"
   ]
  },
  {
   "cell_type": "code",
   "execution_count": 72,
   "id": "4c6c191f",
   "metadata": {},
   "outputs": [
    {
     "name": "stdout",
     "output_type": "stream",
     "text": [
      "Dash app running on http://127.0.0.1:8050/\n"
     ]
    }
   ],
   "source": [
    "'''\n",
    "device = 'COM3' #this will have to be changed to the serial port you are using\n",
    "while True:\n",
    "    try:\n",
    "      print (\"Trying...\",device )\n",
    "      arduino = serial.Serial(device, 9600)\n",
    "      break\n",
    "    except: \n",
    "      print (\"Failed to connect on\",device)\n",
    "\n",
    "max_length = 50\n",
    "times = deque(maxlen=max_length)\n",
    "Tempreature = deque(maxlen=max_length)\n",
    "Humidity = deque(maxlen=max_length)\n",
    "\n",
    "\n",
    "def update_sensor_data():\n",
    "  i=0\n",
    "  while True:\n",
    "    \n",
    "      time.sleep(4)\n",
    "      data = arduino.readline()  #read the data from the arduino\n",
    "      print(data)\n",
    "      pieces = data.decode ( 'utf-8' ).split(\",\")  #split the data by the tab   \n",
    "      Tempreature.append(pieces[0])\n",
    "      Humidity.append(pieces[1])\n",
    "      times.append(i)\n",
    "      i=i+1\n",
    "\n",
    " '''  \n",
    "\n",
    "\n",
    "app=dash.Dash(__name__, external_stylesheets =['https://codepen.io/chriddyp/pen/bWLwgP.css'])\n",
    "app.layout=html.Div([\n",
    "                        html.H1('RealTime DHT11 Arduino Example ',style={'textAlign':'center', 'color':'blue'}),\n",
    "                        dcc.Interval(id='timing',interval=100,n_intervals=0),\n",
    "                        html.Div([\n",
    "                                    html.Div([html.H1('Humidity'),\n",
    "                                            daq.Gauge(\n",
    "                                              id='my-daq-gauge',\n",
    "                                              min=0,\n",
    "                                              max=200\n",
    "                                                     )\n",
    "                                             ],style={'textAlign':'center', 'color':'blue', 'backgroundColor':'yellow'}, className=\"six columns\"), \n",
    "                                    html.Div([html.H1('Temperature'),\n",
    "                                            daq.Thermometer(\n",
    "                                                  id='my-daq-thermometer',\n",
    "                                                  min=0,\n",
    "                                                  max=200,\n",
    "                                                           )\n",
    "                                              ],style={'textAlign':'center', 'color':'blue', 'backgroundColor':'yellow'}, className=\"six columns\")\n",
    "                        ],\n",
    "                        style={'textAlign':'center', 'color':'blue', 'backgroundColor':'yellow'}, className=\"container\")\n",
    "\n",
    "])\n",
    "\n",
    "\n",
    "@app.callback(\n",
    "Output('my-daq-thermometer','value'), \n",
    "Output('my-daq-gauge','value'), \n",
    "Input('timing','n_intervals' ))\n",
    "def update(value):\n",
    "      '''time.sleep()\n",
    "      data = arduino.readline()  #read the data from the arduino\n",
    "      pieces = data.decode ( 'utf-8' ).split(\",\")  #split the data by the tab   \n",
    "      print(pieces[0])\n",
    "      return float(pieces[1]),float(pieces[0])'''\n",
    "      return np.random.randint(10,200),np.random.randint(10,200)\n",
    "\n",
    "app.run(debug=True,jupyter_mode=\"external\")\n"
   ]
  },
  {
   "cell_type": "code",
   "execution_count": null,
   "id": "2a1bebe0",
   "metadata": {},
   "outputs": [],
   "source": []
  }
 ],
 "metadata": {
  "kernelspec": {
   "display_name": "Python 3 (ipykernel)",
   "language": "python",
   "name": "python3"
  },
  "language_info": {
   "codemirror_mode": {
    "name": "ipython",
    "version": 3
   },
   "file_extension": ".py",
   "mimetype": "text/x-python",
   "name": "python",
   "nbconvert_exporter": "python",
   "pygments_lexer": "ipython3",
   "version": "3.9.12"
  }
 },
 "nbformat": 4,
 "nbformat_minor": 5
}
